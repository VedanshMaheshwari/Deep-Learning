{
 "cells": [
  {
   "cell_type": "code",
   "execution_count": 1,
   "id": "098d9f4b-7e4f-48b4-bf19-d2bcc04e5c90",
   "metadata": {},
   "outputs": [],
   "source": [
    "import math\n",
    "import numpy as np"
   ]
  },
  {
   "cell_type": "code",
   "execution_count": null,
   "id": "45b4050b-1ba0-4f1b-99fd-62d6cdd43060",
   "metadata": {},
   "outputs": [],
   "source": [
    "x = np.array([1,2,3])"
   ]
  },
  {
   "cell_type": "markdown",
   "id": "23fa3867-e05c-4356-82ab-4660409c01e2",
   "metadata": {},
   "source": [
    "#### Using math.exp"
   ]
  },
  {
   "cell_type": "markdown",
   "id": "023ef93f-548d-425e-a64b-22edec854c31",
   "metadata": {},
   "source": [
    "def basic_sigmoid(x):\n",
    "    return 1/(1 + math.exp(-x))\n",
    "\n",
    "print(basic_sigmoid(-1))"
   ]
  },
  {
   "cell_type": "markdown",
   "id": "2cdd3863-a2c4-4054-a98a-365e4d940991",
   "metadata": {},
   "source": [
    "#### Using np.exp"
   ]
  },
  {
   "cell_type": "code",
   "execution_count": 52,
   "id": "885cef36-220d-4956-a392-e3c232ada761",
   "metadata": {},
   "outputs": [
    {
     "name": "stdout",
     "output_type": "stream",
     "text": [
      "0.2689414213699951\n",
      "[0.73105858 0.88079708 0.95257413]\n"
     ]
    }
   ],
   "source": [
    "def sigmoid(x):\n",
    "    return 1/(1 + np.exp(-x))\n",
    "\n",
    "print(sigmoid(-1))\n",
    "print(sigmoid(x))"
   ]
  },
  {
   "cell_type": "markdown",
   "id": "09e66cf0-5bdc-413c-ae50-2a42c205a03c",
   "metadata": {},
   "source": [
    "#### Sigmoid Derivative"
   ]
  },
  {
   "cell_type": "code",
   "execution_count": null,
   "id": "bc24e907-b7b7-46b7-b613-4c0e849b2f69",
   "metadata": {},
   "outputs": [],
   "source": [
    "def sigmoid_derivative(x):\n",
    "    return sigmoid(x)*(1-sigmoid(x))"
   ]
  },
  {
   "cell_type": "code",
   "execution_count": 64,
   "id": "efd13590-8846-4fd7-9f54-fdd8d5d91559",
   "metadata": {},
   "outputs": [
    {
     "data": {
      "text/plain": [
       "array([0.19661193, 0.10499359, 0.04517666])"
      ]
     },
     "execution_count": 64,
     "metadata": {},
     "output_type": "execute_result"
    }
   ],
   "source": [
    "sigmoid_derivative(x)"
   ]
  },
  {
   "cell_type": "markdown",
   "id": "e649f4de-2f52-469f-86fc-044db97430e8",
   "metadata": {},
   "source": [
    "#### Flattening an Image"
   ]
  },
  {
   "cell_type": "code",
   "execution_count": 100,
   "id": "c80a1c3d-3777-4655-b91b-280ac9da35d5",
   "metadata": {},
   "outputs": [
    {
     "data": {
      "text/plain": [
       "array([[[138, 180],\n",
       "        [132, 201]],\n",
       "\n",
       "       [[ 51,  16],\n",
       "        [204,  23]],\n",
       "\n",
       "       [[240, 123],\n",
       "        [ 35,   3]]], dtype=uint8)"
      ]
     },
     "execution_count": 100,
     "metadata": {},
     "output_type": "execute_result"
    }
   ],
   "source": [
    "image = np.random.randint(0, 256, size=(3, 2 ,2), dtype=np.uint8)\n",
    "image"
   ]
  },
  {
   "cell_type": "code",
   "execution_count": 112,
   "id": "dc200f73-1a55-4369-b8db-97d2b934038f",
   "metadata": {},
   "outputs": [
    {
     "name": "stdout",
     "output_type": "stream",
     "text": [
      "[[138]\n",
      " [180]\n",
      " [132]\n",
      " [201]\n",
      " [ 51]\n",
      " [ 16]\n",
      " [204]\n",
      " [ 23]\n",
      " [240]\n",
      " [123]\n",
      " [ 35]\n",
      " [  3]]\n"
     ]
    }
   ],
   "source": [
    "import numpy as np\n",
    "\n",
    "def image2vector(image):\n",
    "    return image.reshape(image.shape[0] * image.shape[1] * image.shape[2], 1)\n",
    "    \n",
    "print(image2vector(image))"
   ]
  },
  {
   "cell_type": "markdown",
   "id": "36db9815-3d8c-4792-88aa-434b5890746a",
   "metadata": {},
   "source": [
    "### Normalizing Rows"
   ]
  },
  {
   "cell_type": "code",
   "execution_count": 126,
   "id": "94a21888-f6d5-43a1-95ac-9ec6fb15a1d6",
   "metadata": {},
   "outputs": [],
   "source": [
    "import numpy as np\n",
    "\n",
    "def normalizeRows(x):\n",
    "    x_norm = np.linalg.norm(x, axis=1, keepdims=True)\n",
    "    # Normalize each row by its L2 norm\n",
    "    normalized_x = x / x_norm\n",
    "    return normalized_x"
   ]
  },
  {
   "cell_type": "code",
   "execution_count": 128,
   "id": "ed725a3c-7726-4373-847b-280657387f08",
   "metadata": {},
   "outputs": [
    {
     "name": "stdout",
     "output_type": "stream",
     "text": [
      "[[0.         0.999992   0.00399997]\n",
      " [0.26726124 0.80178373 0.53452248]]\n"
     ]
    }
   ],
   "source": [
    "# Example usage\n",
    "x = np.array([[0,1000,4],[2,6,4]])\n",
    "print(normalizeRows(x))"
   ]
  },
  {
   "cell_type": "markdown",
   "id": "76898fd8-e494-4b5e-838b-7994e28385c9",
   "metadata": {},
   "source": [
    "### Broadcasting"
   ]
  },
  {
   "cell_type": "code",
   "execution_count": 137,
   "id": "defdb1b5-522d-4773-bb39-8787831fe2dc",
   "metadata": {},
   "outputs": [
    {
     "name": "stdout",
     "output_type": "stream",
     "text": [
      "[[0.         1.         0.        ]\n",
      " [0.01587624 0.86681333 0.11731043]]\n"
     ]
    }
   ],
   "source": [
    "import numpy as np\n",
    "\n",
    "def softmax(x):\n",
    "\n",
    "    x_max = np.max(x, axis=-1, keepdims=True)\n",
    "    x = x - x_max\n",
    "    exp_x = np.exp(x)\n",
    "    sum_exp_x = np.sum(exp_x, axis=-1, keepdims=True)\n",
    "    softmax_x = exp_x / sum_exp_x\n",
    "    return softmax_x\n",
    "\n",
    "print(softmax(x))\n"
   ]
  },
  {
   "cell_type": "markdown",
   "id": "df3fa21f-d3a4-4101-821e-344a94702070",
   "metadata": {},
   "source": [
    "\n",
    "### Vectorization"
   ]
  },
  {
   "cell_type": "code",
   "execution_count": 165,
   "id": "2ad0ba6f-3749-4250-bf42-631aecd2524e",
   "metadata": {},
   "outputs": [
    {
     "name": "stdout",
     "output_type": "stream",
     "text": [
      "Classic dot product: 527.3178088617019 (Time taken: 0.093750 seconds)\n"
     ]
    }
   ],
   "source": [
    "import numpy as np\n",
    "import time\n",
    "\n",
    "x1 = np.random.randn(99999)\n",
    "x2 = np.random.randn(99999)\n",
    "\n",
    "# Classic dot product implementation\n",
    "tic = time.process_time()\n",
    "dot = 0\n",
    "for i in range(len(x1)):\n",
    "    dot += x1[i] * x2[i]\n",
    "toc = time.process_time()\n",
    "print(f\"Classic dot product: {dot} (Time taken: {toc - tic:.6f} seconds)\")\n",
    "\n"
   ]
  },
  {
   "cell_type": "markdown",
   "id": "3dd78a4d-b2f9-4d24-a21a-b0568de1b9cc",
   "metadata": {},
   "source": [
    "### Implemention of the L1 and L2 loss functions\n"
   ]
  },
  {
   "cell_type": "code",
   "execution_count": 1,
   "id": "6bbbd175-7acf-4ac2-ab36-f39f9f09ff03",
   "metadata": {},
   "outputs": [
    {
     "name": "stdout",
     "output_type": "stream",
     "text": [
      "L1 Loss: 0.0\n"
     ]
    }
   ],
   "source": [
    "import numpy as np\n",
    "\n",
    "def l1_loss(y_true, y_pred):\n",
    "    return np.mean(np.abs(y_true - y_pred))\n",
    "\n",
    "# Example usage\n",
    "y_true = np.array([1,1,1,1,1])\n",
    "y_pred = np.array([1,1,1,1,1])\n",
    "loss = l1_loss(y_true, y_pred)\n",
    "print(f\"L1 Loss: {loss}\")\n"
   ]
  },
  {
   "cell_type": "code",
   "execution_count": 9,
   "id": "b888e66d-f9ed-4d4f-9323-f312b6dae9ff",
   "metadata": {},
   "outputs": [
    {
     "name": "stdout",
     "output_type": "stream",
     "text": [
      "L2 Loss: 0.043\n"
     ]
    }
   ],
   "source": [
    "import numpy as np\n",
    "\n",
    "def l2_loss(y_true, y_pred):\n",
    "    return np.mean(((y_true - y_pred) ** 2)/2)\n",
    "\n",
    "# Example usage\n",
    "y_true = np.array([0.9,0.2,0.1,0.4,0.9])\n",
    "y_pred = np.array([1,0,0,1,1])\n",
    "loss = l2_loss(y_true, y_pred)\n",
    "print(f\"L2 Loss: {loss}\")\n"
   ]
  },
  {
   "cell_type": "code",
   "execution_count": null,
   "id": "a1f13a8b-64e0-4c0d-9d67-61362012d563",
   "metadata": {},
   "outputs": [],
   "source": []
  }
 ],
 "metadata": {
  "kernelspec": {
   "display_name": "Python 3 (ipykernel)",
   "language": "python",
   "name": "python3"
  },
  "language_info": {
   "codemirror_mode": {
    "name": "ipython",
    "version": 3
   },
   "file_extension": ".py",
   "mimetype": "text/x-python",
   "name": "python",
   "nbconvert_exporter": "python",
   "pygments_lexer": "ipython3",
   "version": "3.12.4"
  }
 },
 "nbformat": 4,
 "nbformat_minor": 5
}
